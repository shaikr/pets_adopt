{
 "cells": [
  {
   "cell_type": "markdown",
   "metadata": {},
   "source": [
    "### Imports"
   ]
  },
  {
   "cell_type": "code",
   "execution_count": 1,
   "metadata": {},
   "outputs": [],
   "source": [
    "import pandas as pd\n",
    "import matplotlib.pyplot as plt\n",
    "import numpy as np\n",
    "import sklearn\n",
    "from tqdm import tqdm, tqdm_notebook\n",
    "import xgboost as xgb\n",
    "import os\n",
    "import lightgbm as lgb\n",
    "from catboost import CatBoostClassifier\n",
    "import seaborn as sns\n",
    "from sklearn.model_selection import StratifiedKFold, KFold\n",
    "from sklearn.metrics import mean_squared_error, roc_auc_score, cohen_kappa_score\n",
    "from sklearn.linear_model import LogisticRegressionCV\n",
    "import time\n",
    "import gc"
   ]
  },
  {
   "cell_type": "code",
   "execution_count": 2,
   "metadata": {},
   "outputs": [],
   "source": [
    "%matplotlib inline"
   ]
  },
  {
   "cell_type": "markdown",
   "metadata": {},
   "source": [
    "## Load and augment data"
   ]
  },
  {
   "cell_type": "code",
   "execution_count": 3,
   "metadata": {},
   "outputs": [],
   "source": [
    "A = pd.read_csv(r\"C:\\Users\\Shai\\PycharmProjects\\pets_adopt\\data\\train.csv\", dtype={'PetID': str})\n",
    "# A = pd.read_csv(r\"D:\\petfinder\\train.csv\", dtype={'PetID': str})"
   ]
  },
  {
   "cell_type": "code",
   "execution_count": 4,
   "metadata": {},
   "outputs": [
    {
     "data": {
      "text/plain": [
       "<matplotlib.axes._subplots.AxesSubplot at 0x151994782e8>"
      ]
     },
     "execution_count": 4,
     "metadata": {},
     "output_type": "execute_result"
    },
    {
     "data": {
      "image/png": "[encoded data removed]",
      "text/plain": [
       "<Figure size 432x288 with 1 Axes>"
      ]
     },
     "metadata": {
      "needs_background": "light"
     },
     "output_type": "display_data"
    }
   ],
   "source": [
    "A['BinaryLabel'].hist()"
   ]
  },
  {
   "cell_type": "code",
   "execution_count": 5,
   "metadata": {},
   "outputs": [],
   "source": [
    "# Add some features and decipher categorical columns\n",
    "\n",
    "# Cat/Dog\n",
    "A['Type'] = A['Type'].apply(lambda x: 'Dog' if x == 1 else 'Cat')\n",
    "\n",
    "# binary noname col\n",
    "A['Name'] = A['Name'].fillna('Unnamed')\n",
    "A['No_name'] = 0\n",
    "A.loc[A['Name'] == 'Unnamed', 'No_name'] = 1\n",
    "\n",
    "A['binned_age'] = pd.cut(A['Age'], bins=[-1,3,6,12,24,36,10000])\n",
    "\n",
    "# Meaningless names - 2 characters and less (maybe 3 as well)\n",
    "# A['meaningless_name'] = 0\n",
    "# A.loc[len(A['Name']) <= 2, 'meaningless_name'] = 1\n",
    "\n",
    "# is pure-bred\n",
    "A['Pure_breed'] = 0\n",
    "A.loc[A['Breed2'] == 0, 'Pure_breed'] = 1\n",
    "\n",
    "A['health'] = A['Vaccinated'].astype(str) + '_' + \\\n",
    "                A['Dewormed'].astype(str) + '_' + \\\n",
    "                A['Sterilized'].astype(str) + '_' + \\\n",
    "                A['Health'].astype(str)\n",
    "            \n",
    "A['Free'] = A['Fee'].apply(lambda x: 1 if x == 0 else 0)\n",
    "\n",
    "\n",
    "A['Description'] = A['Description'].fillna('')\n",
    "A['desc_length'] = A['Description'].apply(lambda x: len(x))\n",
    "A['desc_words'] = A['Description'].apply(lambda x: len(x.split()))\n",
    "A['averate_word_length'] = A['desc_length'] / A['desc_words']\n",
    "A.loc[~np.isfinite(A['averate_word_length']), 'averate_word_length'] = 0\n",
    "\n",
    "if 'BinaryLabel' not in A.columns:\n",
    "    print(\"Adding binary label\")\n",
    "    A['BinaryLabel'] = 0\n",
    "    A.loc[A['AdoptionSpeed'] < 4, \"BinaryLabel\"] = 1"
   ]
  },
  {
   "cell_type": "markdown",
   "metadata": {},
   "source": [
    "### Save basic vectors"
   ]
  },
  {
   "cell_type": "code",
   "execution_count": 6,
   "metadata": {},
   "outputs": [],
   "source": [
    "real_cat_cols = ['Type', 'Breed1', 'Breed2', 'Gender', 'Color1', 'Color2',\n",
    "       'Color3', 'MaturitySize', 'FurLength', 'Vaccinated', 'Dewormed', 'binned_age',\n",
    "                 'Sterilized', 'Health', 'State']  # , 'RescuerID'\n",
    "cols_to_drop = ['health', 'Name', 'Description', 'RescuerID', 'Quantity']\n",
    "B = A.copy()\n",
    "# B = B.drop(columns=cols_to_drop)\n",
    "C = pd.get_dummies(B, columns=real_cat_cols)\n",
    "# C.to_csv(r\"C:\\Users\\Shai\\PycharmProjects\\pets_adopt\\data\\enriched_train.csv\", index=False)"
   ]
  },
  {
   "cell_type": "code",
   "execution_count": 7,
   "metadata": {},
   "outputs": [],
   "source": [
    "D = C.drop(columns=['Unnamed: 0', 'health', 'Name', 'Description', 'RescuerID', 'Quantity']+['PetID', 'set', 'AdoptionSpeed', 'BinaryLabel']) # , 'set'])\n",
    "D = D.to_numpy()\n",
    "vec_dir = r\"C:\\Users\\Shai\\PycharmProjects\\pets_adopt\\data\\basic_vectors\"\n",
    "# for i, vec in tqdm_notebook(enumerate(D)):\n",
    "#     np.save(os.path.join(vec_dir, C.iloc[i]['PetID']+\".npy\"), vec)"
   ]
  },
  {
   "cell_type": "code",
   "execution_count": 8,
   "metadata": {
    "scrolled": true
   },
   "outputs": [
    {
     "ename": "NameError",
     "evalue": "name 'vec' is not defined",
     "output_type": "error",
     "traceback": [
      "\u001b[1;31m---------------------------------------------------------------------------\u001b[0m",
      "\u001b[1;31mNameError\u001b[0m                                 Traceback (most recent call last)",
      "\u001b[1;32m<ipython-input-8-fdaf063805c2>\u001b[0m in \u001b[0;36m<module>\u001b[1;34m\u001b[0m\n\u001b[1;32m----> 1\u001b[1;33m \u001b[0mvec\u001b[0m\u001b[1;33m.\u001b[0m\u001b[0mshape\u001b[0m\u001b[1;33m\u001b[0m\u001b[1;33m\u001b[0m\u001b[0m\n\u001b[0m",
      "\u001b[1;31mNameError\u001b[0m: name 'vec' is not defined"
     ]
    }
   ],
   "source": [
    "vec.shape"
   ]
  },
  {
   "cell_type": "markdown",
   "metadata": {},
   "source": [
    "## Prepare training data"
   ]
  },
  {
   "cell_type": "code",
   "execution_count": 9,
   "metadata": {},
   "outputs": [
    {
     "name": "stdout",
     "output_type": "stream",
     "text": [
      "11330\n",
      "11330\n"
     ]
    }
   ],
   "source": [
    "# Add our filters\n",
    "A = A.loc[(A['Quantity'] == 1) & (A['PhotoAmt'] > 0)]\n",
    "print(len(A))\n",
    "\n",
    "C = C.loc[(C['Quantity'] == 1) & (C['PhotoAmt'] > 0)]\n",
    "print(len(C))"
   ]
  },
  {
   "cell_type": "code",
   "execution_count": 10,
   "metadata": {},
   "outputs": [
    {
     "data": {
      "text/plain": [
       "Text(0.5, 1.0, 'Count Columns By Datatypes')"
      ]
     },
     "execution_count": 10,
     "metadata": {},
     "output_type": "execute_result"
    },
    {
     "data": {
      "image/png": "[encoded data removed]",
      "text/plain": [
       "<Figure size 1440x576 with 1 Axes>"
      ]
     },
     "metadata": {
      "needs_background": "light"
     },
     "output_type": "display_data"
    }
   ],
   "source": [
    "C.dtypes.value_counts().plot(kind=\"barh\", figsize=(20,8))\n",
    "for i, v in enumerate(C.dtypes.value_counts()):\n",
    "    plt.text(v, i, str(v), fontweight='bold', fontsize = 20)\n",
    "plt.xlabel(\"Value Count\")\n",
    "plt.ylabel(\"Data Types\")\n",
    "plt.title(\"Count Columns By Datatypes\")"
   ]
  },
  {
   "cell_type": "code",
   "execution_count": 11,
   "metadata": {},
   "outputs": [],
   "source": [
    "train = C.drop(columns=['Name', 'Quantity', 'RescuerID', 'Description', 'PetID', 'health'])"
   ]
  },
  {
   "cell_type": "code",
   "execution_count": null,
   "metadata": {},
   "outputs": [],
   "source": [
    "# cols_to_use = ['set', 'Type', 'Age', 'Breed1', 'Breed2', 'Gender', 'Color1', 'Color2',\n",
    "#        'Color3', 'MaturitySize', 'FurLength', 'Vaccinated', 'Dewormed',\n",
    "#        'Sterilized', 'Health', 'Quantity', 'Fee', 'State', 'RescuerID', 'health', 'Free', 'score',\n",
    "#        'VideoAmt', 'PhotoAmt', 'AdoptionSpeed', 'BinaryLabel', 'No_name', 'Pure_breed', \n",
    "#                'desc_length', 'desc_words', 'averate_word_length', 'binned_age']\n",
    "#train = A[[col for col in cols_to_use if col in A.columns]]"
   ]
  },
  {
   "cell_type": "code",
   "execution_count": 14,
   "metadata": {},
   "outputs": [
    {
     "data": {
      "text/html": [
       "<div>\n",
       "<style scoped>\n",
       "    .dataframe tbody tr th:only-of-type {\n",
       "        vertical-align: middle;\n",
       "    }\n",
       "\n",
       "    .dataframe tbody tr th {\n",
       "        vertical-align: top;\n",
       "    }\n",
       "\n",
       "    .dataframe thead th {\n",
       "        text-align: right;\n",
       "    }\n",
       "</style>\n",
       "<table border=\"1\" class=\"dataframe\">\n",
       "  <thead>\n",
       "    <tr style=\"text-align: right;\">\n",
       "      <th></th>\n",
       "      <th>Age</th>\n",
       "      <th>Fee</th>\n",
       "      <th>VideoAmt</th>\n",
       "      <th>PhotoAmt</th>\n",
       "      <th>AdoptionSpeed</th>\n",
       "      <th>BinaryLabel</th>\n",
       "      <th>set</th>\n",
       "      <th>No_name</th>\n",
       "      <th>Pure_breed</th>\n",
       "      <th>Free</th>\n",
       "      <th>...</th>\n",
       "      <th>State_41330</th>\n",
       "      <th>State_41332</th>\n",
       "      <th>State_41335</th>\n",
       "      <th>State_41336</th>\n",
       "      <th>State_41342</th>\n",
       "      <th>State_41345</th>\n",
       "      <th>State_41361</th>\n",
       "      <th>State_41367</th>\n",
       "      <th>State_41401</th>\n",
       "      <th>State_41415</th>\n",
       "    </tr>\n",
       "  </thead>\n",
       "  <tbody>\n",
       "    <tr>\n",
       "      <th>0</th>\n",
       "      <td>3</td>\n",
       "      <td>100</td>\n",
       "      <td>0</td>\n",
       "      <td>1</td>\n",
       "      <td>2</td>\n",
       "      <td>1</td>\n",
       "      <td>0.0</td>\n",
       "      <td>0</td>\n",
       "      <td>1</td>\n",
       "      <td>0</td>\n",
       "      <td>...</td>\n",
       "      <td>0</td>\n",
       "      <td>0</td>\n",
       "      <td>0</td>\n",
       "      <td>0</td>\n",
       "      <td>0</td>\n",
       "      <td>0</td>\n",
       "      <td>0</td>\n",
       "      <td>0</td>\n",
       "      <td>0</td>\n",
       "      <td>0</td>\n",
       "    </tr>\n",
       "    <tr>\n",
       "      <th>1</th>\n",
       "      <td>1</td>\n",
       "      <td>0</td>\n",
       "      <td>0</td>\n",
       "      <td>2</td>\n",
       "      <td>0</td>\n",
       "      <td>1</td>\n",
       "      <td>0.0</td>\n",
       "      <td>0</td>\n",
       "      <td>1</td>\n",
       "      <td>1</td>\n",
       "      <td>...</td>\n",
       "      <td>0</td>\n",
       "      <td>0</td>\n",
       "      <td>0</td>\n",
       "      <td>0</td>\n",
       "      <td>0</td>\n",
       "      <td>0</td>\n",
       "      <td>0</td>\n",
       "      <td>0</td>\n",
       "      <td>1</td>\n",
       "      <td>0</td>\n",
       "    </tr>\n",
       "    <tr>\n",
       "      <th>2</th>\n",
       "      <td>1</td>\n",
       "      <td>0</td>\n",
       "      <td>0</td>\n",
       "      <td>7</td>\n",
       "      <td>3</td>\n",
       "      <td>1</td>\n",
       "      <td>0.0</td>\n",
       "      <td>0</td>\n",
       "      <td>1</td>\n",
       "      <td>1</td>\n",
       "      <td>...</td>\n",
       "      <td>0</td>\n",
       "      <td>0</td>\n",
       "      <td>0</td>\n",
       "      <td>0</td>\n",
       "      <td>0</td>\n",
       "      <td>0</td>\n",
       "      <td>0</td>\n",
       "      <td>0</td>\n",
       "      <td>0</td>\n",
       "      <td>0</td>\n",
       "    </tr>\n",
       "    <tr>\n",
       "      <th>3</th>\n",
       "      <td>4</td>\n",
       "      <td>150</td>\n",
       "      <td>0</td>\n",
       "      <td>8</td>\n",
       "      <td>2</td>\n",
       "      <td>1</td>\n",
       "      <td>1.0</td>\n",
       "      <td>0</td>\n",
       "      <td>1</td>\n",
       "      <td>0</td>\n",
       "      <td>...</td>\n",
       "      <td>0</td>\n",
       "      <td>0</td>\n",
       "      <td>0</td>\n",
       "      <td>0</td>\n",
       "      <td>0</td>\n",
       "      <td>0</td>\n",
       "      <td>0</td>\n",
       "      <td>0</td>\n",
       "      <td>1</td>\n",
       "      <td>0</td>\n",
       "    </tr>\n",
       "    <tr>\n",
       "      <th>4</th>\n",
       "      <td>1</td>\n",
       "      <td>0</td>\n",
       "      <td>0</td>\n",
       "      <td>3</td>\n",
       "      <td>2</td>\n",
       "      <td>1</td>\n",
       "      <td>1.0</td>\n",
       "      <td>0</td>\n",
       "      <td>1</td>\n",
       "      <td>1</td>\n",
       "      <td>...</td>\n",
       "      <td>0</td>\n",
       "      <td>0</td>\n",
       "      <td>0</td>\n",
       "      <td>0</td>\n",
       "      <td>0</td>\n",
       "      <td>0</td>\n",
       "      <td>0</td>\n",
       "      <td>0</td>\n",
       "      <td>0</td>\n",
       "      <td>0</td>\n",
       "    </tr>\n",
       "  </tbody>\n",
       "</table>\n",
       "<p>5 rows × 370 columns</p>\n",
       "</div>"
      ],
      "text/plain": [
       "   Age  Fee  VideoAmt  PhotoAmt  AdoptionSpeed  BinaryLabel  set  No_name  \\\n",
       "0    3  100         0         1              2            1  0.0        0   \n",
       "1    1    0         0         2              0            1  0.0        0   \n",
       "2    1    0         0         7              3            1  0.0        0   \n",
       "3    4  150         0         8              2            1  1.0        0   \n",
       "4    1    0         0         3              2            1  1.0        0   \n",
       "\n",
       "   Pure_breed  Free  ...  State_41330  State_41332  State_41335  State_41336  \\\n",
       "0           1     0  ...            0            0            0            0   \n",
       "1           1     1  ...            0            0            0            0   \n",
       "2           1     1  ...            0            0            0            0   \n",
       "3           1     0  ...            0            0            0            0   \n",
       "4           1     1  ...            0            0            0            0   \n",
       "\n",
       "   State_41342  State_41345  State_41361  State_41367  State_41401  \\\n",
       "0            0            0            0            0            0   \n",
       "1            0            0            0            0            1   \n",
       "2            0            0            0            0            0   \n",
       "3            0            0            0            0            1   \n",
       "4            0            0            0            0            0   \n",
       "\n",
       "   State_41415  \n",
       "0            0  \n",
       "1            0  \n",
       "2            0  \n",
       "3            0  \n",
       "4            0  \n",
       "\n",
       "[5 rows x 370 columns]"
      ]
     },
     "execution_count": 14,
     "metadata": {},
     "output_type": "execute_result"
    }
   ],
   "source": [
    "\n",
    "train = train.drop(columns=['Unnamed: 0'])\n",
    "train.head()"
   ]
  },
  {
   "cell_type": "code",
   "execution_count": 15,
   "metadata": {},
   "outputs": [],
   "source": [
    "cat_cols = ['Type', 'Breed1', 'Breed2', 'Gender', 'Color1', 'Color2',\n",
    "       'Color3', 'MaturitySize', 'FurLength', 'Vaccinated', 'Dewormed',\n",
    "       'Sterilized', 'Health', 'State', 'RescuerID',\n",
    "       'No_name', 'Pure_breed', 'health', 'Free', 'binned_age']\n",
    "cat_cols = []"
   ]
  },
  {
   "cell_type": "code",
   "execution_count": null,
   "metadata": {},
   "outputs": [],
   "source": [
    "indexer = {}\n",
    "for col in cat_cols:\n",
    "    # print(col)\n",
    "    if col in train.columns:\n",
    "        _, indexer[col] = pd.factorize(train[col].astype(str))\n",
    "    \n",
    "for col in tqdm_notebook(cat_cols):\n",
    "    # print(col)\n",
    "    if col in train.columns:\n",
    "        train[col] = indexer[col].get_indexer(train[col].astype(str))"
   ]
  },
  {
   "cell_type": "markdown",
   "metadata": {},
   "source": [
    "## Train"
   ]
  },
  {
   "cell_type": "code",
   "execution_count": 16,
   "metadata": {},
   "outputs": [],
   "source": [
    "def kappa(y_true, y_pred):\n",
    "    return cohen_kappa_score(y_true, y_pred, weights='quadratic')\n",
    "\n",
    "def train_model(X=None, X_test=None, y=None, params=None, folds=None, model_type='xgb', \n",
    "                plot_feature_importance=False, averaging='usual', make_oof=False):\n",
    "    result_dict = {}\n",
    "    if make_oof:\n",
    "        oof = np.zeros((len(X), 5))\n",
    "    prediction = np.zeros((len(X_test), 5))\n",
    "    scores = []\n",
    "    feature_importance = pd.DataFrame()\n",
    "    for fold_n, (train_index, valid_index) in enumerate(folds.split(X, y)):\n",
    "        gc.collect()\n",
    "        print('Fold', fold_n + 1, 'started at', time.ctime())\n",
    "        X_train, X_valid = X.iloc[train_index], X.iloc[valid_index]\n",
    "        y_train, y_valid = y.iloc[train_index], y.iloc[valid_index]\n",
    "        \n",
    "        \n",
    "        if model_type == 'lgb':\n",
    "            train_data = lgb.Dataset(X_train, label=y_train, categorical_feature = cat_cols)\n",
    "            valid_data = lgb.Dataset(X_valid, label=y_valid, categorical_feature = cat_cols)\n",
    "            \n",
    "            model = lgb.train(params,\n",
    "                    train_data,\n",
    "                    num_boost_round=20000,\n",
    "                    valid_sets = [train_data, valid_data],\n",
    "                    verbose_eval=500,\n",
    "                    early_stopping_rounds = 200)\n",
    "\n",
    "            del train_data, valid_data\n",
    "            \n",
    "            y_pred_valid = model.predict(X_valid, num_iteration=model.best_iteration)\n",
    "            del X_valid\n",
    "            gc.collect()\n",
    "            y_pred = model.predict(X_test, num_iteration=model.best_iteration)\n",
    "            \n",
    "        if model_type == 'xgb':\n",
    "            train_data = xgb.DMatrix(data=X_train, label=y_train)\n",
    "            valid_data = xgb.DMatrix(data=X_valid, label=y_valid)\n",
    "\n",
    "            watchlist = [(train_data, 'train'), (valid_data, 'valid_data')]\n",
    "            model = xgb.train(dtrain=train_data, num_boost_round=20000, evals=watchlist, early_stopping_rounds=200, verbose_eval=500, params=params)\n",
    "            y_pred_valid = model.predict(xgb.DMatrix(X_valid), ntree_limit=model.best_ntree_limit)\n",
    "            y_pred = model.predict(xgb.DMatrix(X_test), ntree_limit=model.best_ntree_limit)\n",
    "            \n",
    "        if model_type == 'lcv':\n",
    "            model = LogisticRegressionCV(scoring='neg_log_loss', cv=4, multi_class='multinomial', verbose=1)\n",
    "            model.fit(X_train, y_train)\n",
    "            print(model.classes_)\n",
    "            y_pred_valid = model.predict(X_valid)\n",
    "            print(y_pred_valid.shape)\n",
    "            y_pred = model.predict(X_test)\n",
    "            \n",
    "        if model_type == 'cat':\n",
    "            model = CatBoostClassifier(iterations=20000,  loss_function='MultiClass', **params)\n",
    "            model.fit(X_train, y_train, eval_set=(X_valid, y_valid), cat_features=[], use_best_model=True, verbose=False)\n",
    "\n",
    "            y_pred_valid = model.predict(X_valid)\n",
    "            y_pred = model.predict(X_test).reshape(-1,)\n",
    "        \n",
    "        if make_oof:\n",
    "            oof[valid_index] = y_pred_valid\n",
    "            \n",
    "        scores.append(kappa(y_valid, y_pred_valid.argmax(1)))\n",
    "        print('Fold train kappa:', kappa(y_train, model.predict(X_train).argmax(1)))\n",
    "        print('Fold kappa:', kappa(y_valid, y_pred_valid.argmax(1)))\n",
    "        print('')\n",
    "        \n",
    "        if averaging == 'usual':\n",
    "            prediction += y_pred\n",
    "        elif averaging == 'rank':\n",
    "            prediction += pd.Series(y_pred).rank().values\n",
    "        \n",
    "        if model_type == 'lgb':\n",
    "            # feature importance\n",
    "            fold_importance = pd.DataFrame()\n",
    "            fold_importance[\"feature\"] = X.columns\n",
    "            fold_importance[\"importance\"] = model.feature_importance()\n",
    "            fold_importance[\"fold\"] = fold_n + 1\n",
    "            feature_importance = pd.concat([feature_importance, fold_importance], axis=0)\n",
    "\n",
    "    prediction /= n_fold\n",
    "    \n",
    "    print('CV mean score: {0:.4f}, std: {1:.4f}.'.format(np.mean(scores), np.std(scores)))\n",
    "    \n",
    "    if model_type == 'lgb':\n",
    "        if plot_feature_importance:\n",
    "            feature_importance[\"importance\"] /= n_fold\n",
    "            cols = feature_importance[[\"feature\", \"importance\"]].groupby(\"feature\").mean().sort_values(\n",
    "                by=\"importance\", ascending=False)[:50].index\n",
    "\n",
    "            best_features = feature_importance.loc[feature_importance.feature.isin(cols)]\n",
    "\n",
    "            plt.figure(figsize=(16, 12));\n",
    "            sns.barplot(x=\"importance\", y=\"feature\", data=best_features.sort_values(by=\"importance\", ascending=False));\n",
    "            plt.title('LGB Features (avg over folds)');\n",
    "            \n",
    "            result_dict['feature_importance'] = feature_importance\n",
    "            \n",
    "    result_dict['prediction'] = prediction\n",
    "    result_dict['model'] = model\n",
    "    if make_oof:\n",
    "        result_dict['oof'] = oof\n",
    "    \n",
    "    return result_dict"
   ]
  },
  {
   "cell_type": "code",
   "execution_count": 17,
   "metadata": {},
   "outputs": [],
   "source": [
    "all_train = train.copy()\n",
    "train = all_train.copy()\n",
    "test = train.loc[train['set'] == 1]\n",
    "train = train.loc[train['set'] == 0]\n",
    "y = train['BinaryLabel']  # ['AdoptionSpeed']\n",
    "y_test = test['BinaryLabel']  # ['AdoptionSpeed']\n",
    "train = train.drop(['BinaryLabel', 'AdoptionSpeed', 'set'], axis=1)\n",
    "test = test.drop(['BinaryLabel', 'AdoptionSpeed', 'set'], axis=1)"
   ]
  },
  {
   "cell_type": "code",
   "execution_count": 18,
   "metadata": {},
   "outputs": [],
   "source": [
    "n_fold = 5\n",
    "folds = StratifiedKFold(n_splits=n_fold, shuffle=True, random_state=15)"
   ]
  },
  {
   "cell_type": "code",
   "execution_count": null,
   "metadata": {},
   "outputs": [],
   "source": [
    "# result_dict_lcv = train_model(X=train, X_test=test, y=y, folds=folds, plot_feature_importance=True, model_type='lcv', make_oof=True)"
   ]
  },
  {
   "cell_type": "code",
   "execution_count": null,
   "metadata": {},
   "outputs": [],
   "source": [
    "params = {'num_leaves': 100,\n",
    "         'min_data_in_leaf': 100,\n",
    "         'objective': 'multiclass',\n",
    "         'max_depth': -1,\n",
    "         'learning_rate': 0.01,\n",
    "         \"boosting\": \"gbdt\",\n",
    "         \"feature_fraction\": 0.7,\n",
    "#          \"bagging_freq\": 2,\n",
    "#          \"bagging_fraction\": 0.9,\n",
    "         \"bagging_seed\": 11,\n",
    "        #  \"lambda_l1\": 0.1,\n",
    "         # \"lambda_l2\": 0.1,\n",
    "         \"random_state\": 42,          \n",
    "         \"verbosity\": -1,\n",
    "         \"num_class\": 5}\n",
    "\n",
    "result_dict_lgb = train_model(X=train, X_test=test, y=y, folds=folds, plot_feature_importance=True, params=params, model_type='lgb', make_oof=True)"
   ]
  },
  {
   "cell_type": "code",
   "execution_count": null,
   "metadata": {
    "scrolled": false
   },
   "outputs": [],
   "source": [
    "# xgb_params = {'eta': 0.01, 'max_depth': 9, 'subsample': 0.9, 'colsample_bytree': 0.9, \n",
    "#           'objective': 'multi:softprob', 'eval_metric': 'merror', 'silent': True, 'nthread': 4, 'num_class': 5}\n",
    "# result_dict_xgb = train_model(X=train, X_test=test, y=y, folds=folds, plot_feature_importance=True, params=xgb_params, model_type='xgb', make_oof=True)"
   ]
  },
  {
   "cell_type": "markdown",
   "metadata": {},
   "source": [
    "## Check model metrics"
   ]
  },
  {
   "cell_type": "code",
   "execution_count": 19,
   "metadata": {},
   "outputs": [
    {
     "ename": "NameError",
     "evalue": "name 'result_dict_lgb' is not defined",
     "output_type": "error",
     "traceback": [
      "\u001b[1;31m---------------------------------------------------------------------------\u001b[0m",
      "\u001b[1;31mNameError\u001b[0m                                 Traceback (most recent call last)",
      "\u001b[1;32m<ipython-input-19-ae38a53b2598>\u001b[0m in \u001b[0;36m<module>\u001b[1;34m\u001b[0m\n\u001b[1;32m----> 1\u001b[1;33m \u001b[0mpred_quant\u001b[0m \u001b[1;33m=\u001b[0m \u001b[0mnp\u001b[0m\u001b[1;33m.\u001b[0m\u001b[0margmax\u001b[0m\u001b[1;33m(\u001b[0m\u001b[0mresult_dict_lgb\u001b[0m\u001b[1;33m[\u001b[0m\u001b[1;34m'prediction'\u001b[0m\u001b[1;33m]\u001b[0m\u001b[1;33m,\u001b[0m \u001b[0maxis\u001b[0m\u001b[1;33m=\u001b[0m\u001b[1;36m1\u001b[0m\u001b[1;33m)\u001b[0m\u001b[1;33m\u001b[0m\u001b[1;33m\u001b[0m\u001b[0m\n\u001b[0m\u001b[0;32m      2\u001b[0m \u001b[0mprint\u001b[0m\u001b[1;33m(\u001b[0m\u001b[1;34m\"Test MSE: {}\"\u001b[0m\u001b[1;33m.\u001b[0m\u001b[0mformat\u001b[0m\u001b[1;33m(\u001b[0m\u001b[0msklearn\u001b[0m\u001b[1;33m.\u001b[0m\u001b[0mmetrics\u001b[0m\u001b[1;33m.\u001b[0m\u001b[0mmean_squared_error\u001b[0m\u001b[1;33m(\u001b[0m\u001b[0my_test\u001b[0m\u001b[1;33m,\u001b[0m \u001b[0mpred_quant\u001b[0m\u001b[1;33m)\u001b[0m\u001b[1;33m)\u001b[0m\u001b[1;33m)\u001b[0m\u001b[1;33m\u001b[0m\u001b[1;33m\u001b[0m\u001b[0m\n\u001b[0;32m      3\u001b[0m \u001b[0mpred_stam\u001b[0m \u001b[1;33m=\u001b[0m \u001b[0mresult_dict_lgb\u001b[0m\u001b[1;33m[\u001b[0m\u001b[1;34m'model'\u001b[0m\u001b[1;33m]\u001b[0m\u001b[1;33m.\u001b[0m\u001b[0mpredict\u001b[0m\u001b[1;33m(\u001b[0m\u001b[0mtrain\u001b[0m\u001b[1;33m)\u001b[0m\u001b[1;33m\u001b[0m\u001b[1;33m\u001b[0m\u001b[0m\n\u001b[0;32m      4\u001b[0m \u001b[0mpred_quant\u001b[0m \u001b[1;33m=\u001b[0m \u001b[0mnp\u001b[0m\u001b[1;33m.\u001b[0m\u001b[0margmax\u001b[0m\u001b[1;33m(\u001b[0m\u001b[0mpred_stam\u001b[0m\u001b[1;33m,\u001b[0m \u001b[0maxis\u001b[0m\u001b[1;33m=\u001b[0m\u001b[1;36m1\u001b[0m\u001b[1;33m)\u001b[0m\u001b[1;33m\u001b[0m\u001b[1;33m\u001b[0m\u001b[0m\n\u001b[0;32m      5\u001b[0m \u001b[0mprint\u001b[0m\u001b[1;33m(\u001b[0m\u001b[1;34m\"Train MSE: {}\"\u001b[0m\u001b[1;33m.\u001b[0m\u001b[0mformat\u001b[0m\u001b[1;33m(\u001b[0m\u001b[0msklearn\u001b[0m\u001b[1;33m.\u001b[0m\u001b[0mmetrics\u001b[0m\u001b[1;33m.\u001b[0m\u001b[0mmean_squared_error\u001b[0m\u001b[1;33m(\u001b[0m\u001b[0my\u001b[0m\u001b[1;33m,\u001b[0m \u001b[0mpred_quant\u001b[0m\u001b[1;33m)\u001b[0m\u001b[1;33m)\u001b[0m\u001b[1;33m)\u001b[0m\u001b[1;33m\u001b[0m\u001b[1;33m\u001b[0m\u001b[0m\n",
      "\u001b[1;31mNameError\u001b[0m: name 'result_dict_lgb' is not defined"
     ]
    }
   ],
   "source": [
    "pred_quant = np.argmax(result_dict_lgb['prediction'], axis=1)\n",
    "print(\"Test MSE: {}\".format(sklearn.metrics.mean_squared_error(y_test, pred_quant)))\n",
    "pred_stam = result_dict_lgb['model'].predict(train)\n",
    "pred_quant = np.argmax(pred_stam, axis=1)\n",
    "print(\"Train MSE: {}\".format(sklearn.metrics.mean_squared_error(y, pred_quant)))\n",
    "print(\"Baseline MSE: {}\".format(sklearn.metrics.mean_squared_error(y, np.ones_like(y) * np.mean(y))))"
   ]
  },
  {
   "cell_type": "code",
   "execution_count": null,
   "metadata": {},
   "outputs": [],
   "source": [
    "# cat_params = {'eta': 0.01, 'max_depth': 9, 'subsample': 0.9, 'colsample_bytree': 0.9, \n",
    "#           'objective': 'multi:softprob', 'eval_metric': 'merror', 'silent': True, 'nthread': 4, 'num_class': 5}\n",
    "# result_dict_cat = train_model(X=train, X_test=test, y=y, folds=folds, plot_feature_importance=True, params=cat_params, model_type='cat', make_oof=True)"
   ]
  },
  {
   "cell_type": "code",
   "execution_count": null,
   "metadata": {},
   "outputs": [],
   "source": [
    "# model_lrcv = lrcv.fit(C.loc[C['set'] == 0].drop(columns=['AdoptionSpeed', 'PetID']), y=C.loc[C['set'] == 0]['AdoptionSpeed'])\n",
    "# temp_pred = model_lrcv.predict(C.loc[C['set'] == 1].drop(columns=['AdoptionSpeed', 'PetID']))\n",
    "# print(\"LogReg test MSE: {}\".format(sklearn.metrics.mean_squared_error(C.loc[C['set'] == 1]['AdoptionSpeed'], temp_pred)))\n",
    "# temp_pred = model_lrcv.predict(C.loc[C['set'] == 0].drop(columns=['AdoptionSpeed', 'PetID']))\n",
    "# print(\"LogReg train MSE: {}\".format(sklearn.metrics.mean_squared_error(C.loc[C['set'] == 0]['AdoptionSpeed'], temp_pred))"
   ]
  },
  {
   "cell_type": "code",
   "execution_count": 33,
   "metadata": {},
   "outputs": [
    {
     "name": "stdout",
     "output_type": "stream",
     "text": [
      "Train MSE: 0.2313037723362012\n",
      "Train logloss: 0.5415918039232519\n",
      "\n",
      "Train Random MSE: 0.3882638429296272\n",
      "Train Random logloss: 0.6059352653258018\n",
      "\n",
      "Test MSE: 0.2314487632508834\n",
      "Test logloss: 0.536690429007446\n",
      "\n",
      "Test Random MSE: 0.38515901060070673\n",
      "Test Random logloss: 0.5992209427535878\n"
     ]
    }
   ],
   "source": [
    "p_adopted = A['BinaryLabel'].sum() / len(A['BinaryLabel'])\n",
    "\n",
    "import math\n",
    "\n",
    "def sigmoid(x):\n",
    "    return 1 / (1 + np.exp(-x))\n",
    "\n",
    "\n",
    "from sklearn.tree import DecisionTreeClassifier\n",
    "dtc = DecisionTreeClassifier(min_samples_leaf=100)\n",
    "dtc = dtc.fit(X=train, y=y)\n",
    "cur_pred = dtc.predict(train)\n",
    "rand_pred = np.random.choice([0, 1], size=cur_pred.size, p=[1-p_adopted, p_adopted])\n",
    "# rand_pred = np.random.rand(cur_pred.size)\n",
    "print(\"Train MSE: {}\".format(sklearn.metrics.mean_squared_error(y, cur_pred)))\n",
    "print(\"Train Random MSE: {}\\n\".format(sklearn.metrics.mean_squared_error(y, rand_pred)))\n",
    "print(\"Train logloss: {}\".format(sklearn.metrics.log_loss(y, sigmoid(cur_pred))))\n",
    "print(\"Train Random logloss: {}\\n\".format(sklearn.metrics.log_loss(y, sigmoid(rand_pred))))\n",
    "\n",
    "cur_pred = dtc.predict(test)\n",
    "rand_pred = np.random.choice([0, 1], size=cur_pred.size, p=[1-p_adopted, p_adopted])\n",
    "# rand_pred = np.random.rand(cur_pred.size)\n",
    "print(\"Test MSE: {}\".format(sklearn.metrics.mean_squared_error(y_test, cur_pred)))\n",
    "print(\"Test Random MSE: {}\\n\".format(sklearn.metrics.mean_squared_error(y_test, rand_pred)))\n",
    "print(\"Test logloss: {}\".format(sklearn.metrics.log_loss(y_test, sigmoid(cur_pred))))\n",
    "print(\"Test Random logloss: {}\".format(sklearn.metrics.log_loss(y_test, sigmoid(rand_pred))))"
   ]
  },
  {
   "cell_type": "code",
   "execution_count": null,
   "metadata": {
    "scrolled": false
   },
   "outputs": [],
   "source": [
    "C.head()\n",
    "print(C.iloc[0]['PetID'])\n",
    "tmp_vec = np.load(os.path.join(r\"C:\\Users\\Shai\\PycharmProjects\\pets_adopt\\data\\basic_vectors\", '86e1089a3.npy'))\n",
    "print(dtc.max_features_)\n",
    "print(tmp_vec.shape)\n",
    "print(dtc.predict(np.expand_dims(tmp_vec, axis=0)))"
   ]
  },
  {
   "cell_type": "code",
   "execution_count": null,
   "metadata": {},
   "outputs": [],
   "source": [
    "import pickle\n",
    "with open(r\"C:\\Users\\Shai\\PycharmProjects\\pets_adopt\\data\\decision_tree_min_leaf_100.pkl\", 'wb') as f:\n",
    "    pickle.dump(dtc, f)"
   ]
  },
  {
   "cell_type": "code",
   "execution_count": null,
   "metadata": {},
   "outputs": [],
   "source": [
    "# from sklearn import tree\n",
    "# from sklearn.externals.six import StringIO  \n",
    "# from IPython.display import Image  \n",
    "# from sklearn.tree import export_graphviz\n",
    "# import pydotplus\n",
    "# import pydot\n",
    "\n",
    "# dot_data = StringIO() \n",
    "# export_graphviz(dtc, out_file=dot_data,  \n",
    "#                 filled=True, rounded=True,\n",
    "#                 special_characters=True)\n",
    "# # graph = pydot.graph_from_dot_data(dot_data)\n",
    "# graph = pydot.graph_from_dot_data(dot_data.getvalue())\n",
    "# g = graph[0]\n",
    "# g.(\"dtc.bmp\")"
   ]
  },
  {
   "cell_type": "code",
   "execution_count": null,
   "metadata": {},
   "outputs": [],
   "source": [
    "from sklearn.metrics import log_loss"
   ]
  },
  {
   "cell_type": "code",
   "execution_count": null,
   "metadata": {},
   "outputs": [],
   "source": []
  }
 ],
 "metadata": {
  "kernelspec": {
   "display_name": "Python 3",
   "language": "python",
   "name": "python3"
  },
  "language_info": {
   "codemirror_mode": {
    "name": "ipython",
    "version": 3
   },
   "file_extension": ".py",
   "mimetype": "text/x-python",
   "name": "python",
   "nbconvert_exporter": "python",
   "pygments_lexer": "ipython3",
   "version": "3.7.1"
  }
 },
 "nbformat": 4,
 "nbformat_minor": 2
}
