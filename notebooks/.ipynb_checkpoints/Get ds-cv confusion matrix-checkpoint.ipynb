{
 "cells": [
  {
   "cell_type": "markdown",
   "metadata": {},
   "source": [
    "## Imports"
   ]
  },
  {
   "cell_type": "code",
   "execution_count": 1,
   "metadata": {},
   "outputs": [],
   "source": [
    "import numpy as np\n",
    "import matplotlib.pyplot as plt\n",
    "import pickle\n",
    "import pandas as pd\n",
    "import os\n",
    "from tqdm import tqdm, tqdm_notebook\n",
    "\n",
    "from sklearn.tree import DecisionTreeClassifier\n",
    "from sklearn import svm, datasets\n",
    "from sklearn.model_selection import train_test_split\n",
    "from sklearn.metrics import confusion_matrix\n",
    "from sklearn.utils.multiclass import unique_labels\n",
    "\n",
    "\n",
    "%matplotlib inline"
   ]
  },
  {
   "cell_type": "markdown",
   "metadata": {},
   "source": [
    "## Confusion matrix functions"
   ]
  },
  {
   "cell_type": "code",
   "execution_count": 2,
   "metadata": {},
   "outputs": [],
   "source": [
    "def plot_confusion_matrix(y_true, y_pred, classes,\n",
    "                          normalize=False,\n",
    "                          title=None,\n",
    "                          cmap=plt.cm.Blues):\n",
    "    \"\"\"\n",
    "    This function prints and plots the confusion matrix.\n",
    "    Normalization can be applied by setting `normalize=True`.\n",
    "    \"\"\"\n",
    "    if not title:\n",
    "        if normalize:\n",
    "            title = 'Normalized confusion matrix'\n",
    "        else:\n",
    "            title = 'Confusion matrix, without normalization'\n",
    "\n",
    "    # Compute confusion matrix\n",
    "    cm = confusion_matrix(y_true, y_pred)\n",
    "    # Only use the labels that appear in the data\n",
    "    classes = classes #[unique_labels(y_true, y_pred)]\n",
    "    if normalize:\n",
    "        cm = cm.astype('float') / cm.sum(axis=1)[:, np.newaxis]\n",
    "        print(\"Normalized confusion matrix\")\n",
    "    else:\n",
    "        print('Confusion matrix, without normalization')\n",
    "\n",
    "    fig, ax = plt.subplots()\n",
    "    im = ax.imshow(cm, interpolation='nearest', cmap=cmap)\n",
    "    ax.figure.colorbar(im, ax=ax)\n",
    "    # We want to show all ticks...\n",
    "    ax.set(xticks=np.arange(cm.shape[1]),\n",
    "           yticks=np.arange(cm.shape[0]),\n",
    "           # ... and label them with the respective list entries\n",
    "           xticklabels=classes, yticklabels=classes,\n",
    "           title=title,\n",
    "           ylabel='True label',\n",
    "           xlabel='Predicted label')\n",
    "\n",
    "    # Rotate the tick labels and set their alignment.\n",
    "    plt.setp(ax.get_xticklabels(), rotation=45, ha=\"right\",\n",
    "             rotation_mode=\"anchor\")\n",
    "\n",
    "    # Loop over data dimensions and create text annotations.\n",
    "    fmt = '.2f' if normalize else 'd'\n",
    "    thresh = cm.max() / 2.\n",
    "    for i in range(cm.shape[0]):\n",
    "        for j in range(cm.shape[1]):\n",
    "            ax.text(j, i, format(cm[i, j], fmt),\n",
    "                    ha=\"center\", va=\"center\",\n",
    "                    color=\"white\" if cm[i, j] > thresh else \"black\")\n",
    "    fig.tight_layout()\n",
    "    return ax"
   ]
  },
  {
   "cell_type": "code",
   "execution_count": 3,
   "metadata": {},
   "outputs": [],
   "source": [
    "def plot_confusion_matrix_preds(y_pred1, y_pred2, classes, name1, name2,\n",
    "                          normalize=False,\n",
    "                          title=None,\n",
    "                          cmap=plt.cm.Blues):\n",
    "    \"\"\"\n",
    "    This function prints and plots the confusion matrix.\n",
    "    Normalization can be applied by setting `normalize=True`.\n",
    "    \"\"\"\n",
    "    if not title:\n",
    "        if normalize:\n",
    "            title = 'Normalized confusion matrix'\n",
    "        else:\n",
    "            title = 'Confusion matrix, without normalization'\n",
    "\n",
    "    # Compute confusion matrix\n",
    "    cm = confusion_matrix(y_pred1, y_pred2)\n",
    "    # Only use the labels that appear in the data\n",
    "    classes = classes #[unique_labels(y_true, y_pred)]\n",
    "    if normalize:\n",
    "        cm = cm.astype('float') / cm.sum(axis=1)[:, np.newaxis]\n",
    "        print(\"Normalized confusion matrix\")\n",
    "    else:\n",
    "        print('Confusion matrix, without normalization')\n",
    "        \n",
    "    fig, ax = plt.subplots()\n",
    "    im = ax.imshow(cm, interpolation='nearest', cmap=cmap)\n",
    "    ax.figure.colorbar(im, ax=ax)\n",
    "    # We want to show all ticks...\n",
    "    ax.set(xticks=np.arange(cm.shape[1]),\n",
    "           yticks=np.arange(cm.shape[0]),\n",
    "           # ... and label them with the respective list entries\n",
    "           xticklabels=classes, yticklabels=classes,\n",
    "           title=title,\n",
    "           ylabel=name1,\n",
    "           xlabel=name2)\n",
    "\n",
    "    # Rotate the tick labels and set their alignment.\n",
    "    plt.setp(ax.get_xticklabels(), rotation=45, ha=\"right\",\n",
    "             rotation_mode=\"anchor\")\n",
    "\n",
    "    # Loop over data dimensions and create text annotations.\n",
    "    fmt = '.2f' if normalize else 'd'\n",
    "    thresh = cm.max() / 2.\n",
    "    for i in range(cm.shape[0]):\n",
    "        for j in range(cm.shape[1]):\n",
    "            ax.text(j, i, format(cm[i, j], fmt),\n",
    "                    ha=\"center\", va=\"center\",\n",
    "                    color=\"white\" if cm[i, j] > thresh else \"black\")\n",
    "    fig.tight_layout()\n",
    "    return ax"
   ]
  },
  {
   "cell_type": "markdown",
   "metadata": {},
   "source": [
    "## Get predictions"
   ]
  },
  {
   "cell_type": "code",
   "execution_count": 4,
   "metadata": {},
   "outputs": [],
   "source": [
    "with open(r\"C:\\Users\\Shai\\PycharmProjects\\pets_adopt\\data\\decision_tree_min_leaf_100.pkl\", 'rb') as handle:\n",
    "    dtc = pickle.load(handle)"
   ]
  },
  {
   "cell_type": "code",
   "execution_count": 5,
   "metadata": {},
   "outputs": [],
   "source": [
    "vision_binary_labels = np.load(r\"C:\\Users\\Shai\\PycharmProjects\\pets_adopt\\data\\labels.npy\")\n",
    "vision_preds = np.load(r\"C:\\Users\\Shai\\PycharmProjects\\pets_adopt\\data\\preds.npy\")\n",
    "# vision_binned_preds = np.round(vision_preds).astype('uint8')\n",
    "vision_binned_preds = (vision_preds >= 0.4).astype('uint8')"
   ]
  },
  {
   "cell_type": "code",
   "execution_count": 6,
   "metadata": {},
   "outputs": [],
   "source": [
    "A = pd.read_csv(r\"C:\\Users\\Shai\\PycharmProjects\\pets_adopt\\data\\train.csv\", dtype={'PetID': str})\n",
    "A = A.loc[(A['Quantity'] == 1) & (A['PhotoAmt'] > 0) & (A['set'] == 1)]"
   ]
  },
  {
   "cell_type": "code",
   "execution_count": 7,
   "metadata": {},
   "outputs": [
    {
     "data": {
      "application/vnd.jupyter.widget-view+json": {
       "model_id": "88270fcbc06042348474a64c7efe701f",
       "version_major": 2,
       "version_minor": 0
      },
      "text/plain": [
       "HBox(children=(IntProgress(value=1, bar_style='info', max=1), HTML(value='')))"
      ]
     },
     "metadata": {},
     "output_type": "display_data"
    },
    {
     "name": "stdout",
     "output_type": "stream",
     "text": [
      "\n"
     ]
    }
   ],
   "source": [
    "vecs_dir = r\"C:\\Users\\Shai\\PycharmProjects\\pets_adopt\\data\\basic_vectors\"\n",
    "\n",
    "ds_preds = []\n",
    "ds_cont_preds = []\n",
    "bin_target = []\n",
    "for i, row in tqdm_notebook(A.iterrows()):\n",
    "    cur_pet_id = row['PetID']\n",
    "    cur_ds_vec = np.load(os.path.join(os.path.join(vecs_dir, cur_pet_id+\".npy\")))\n",
    "    cur_ds_pred = dtc.predict(np.expand_dims(cur_ds_vec, axis=0))\n",
    "    ds_preds.append(cur_ds_pred[0])\n",
    "    cur_ds_pred = dtc.predict_proba(np.expand_dims(cur_ds_vec, axis=0))\n",
    "    ds_cont_preds.append(cur_ds_pred[0])\n",
    "    bin_target += [row['BinaryLabel']]\n",
    "\n",
    "ds_cont_preds = np.asarray(ds_cont_preds)[:, 1]"
   ]
  },
  {
   "cell_type": "markdown",
   "metadata": {},
   "source": [
    "## Truth confusion matrix"
   ]
  },
  {
   "cell_type": "code",
   "execution_count": 8,
   "metadata": {},
   "outputs": [
    {
     "name": "stdout",
     "output_type": "stream",
     "text": [
      "Confusion matrix, without normalization\n",
      "Confusion matrix, without normalization\n"
     ]
    },
    {
     "data": {
      "image/png": "[encoded data removed]",
      "text/plain": [
       "<Figure size 432x288 with 2 Axes>"
      ]
     },
     "metadata": {
      "needs_background": "light"
     },
     "output_type": "display_data"
    },
    {
     "data": {
      "image/png": "[encoded data removed]",
      "text/plain": [
       "<Figure size 432x288 with 2 Axes>"
      ]
     },
     "metadata": {
      "needs_background": "light"
     },
     "output_type": "display_data"
    }
   ],
   "source": [
    "np.set_printoptions(precision=3)\n",
    "class_names = ['Not Adopted', 'Adopted']\n",
    "\n",
    "# Plot non-normalized confusion matrix\n",
    "plot_confusion_matrix(bin_target, ds_preds, classes=class_names,\n",
    "                      title='DS: Confusion matrix, no normalization')\n",
    "\n",
    "\n",
    "plot_confusion_matrix(bin_target, vision_binned_preds, classes=class_names,\n",
    "                      title='CV: Confusion matrix, no normalization')\n",
    "\n",
    "# # Plot normalized confusion matrix\n",
    "# plot_confusion_matrix(bin_target, ds_preds, classes=class_names, normalize=True,\n",
    "#                       title='Normalized confusion matrix')\n",
    "\n",
    "plt.show()"
   ]
  },
  {
   "cell_type": "markdown",
   "metadata": {},
   "source": [
    "## Inter-model confusion matrix"
   ]
  },
  {
   "cell_type": "code",
   "execution_count": 9,
   "metadata": {},
   "outputs": [
    {
     "name": "stdout",
     "output_type": "stream",
     "text": [
      "Confusion matrix, without normalization\n",
      "Confusion matrix, without normalization\n"
     ]
    },
    {
     "data": {
      "text/plain": [
       "<matplotlib.axes._subplots.AxesSubplot at 0x2852e58a748>"
      ]
     },
     "execution_count": 9,
     "metadata": {},
     "output_type": "execute_result"
    },
    {
     "data": {
      "image/png": "[encoded data removed]",
      "text/plain": [
       "<Figure size 432x288 with 2 Axes>"
      ]
     },
     "metadata": {
      "needs_background": "light"
     },
     "output_type": "display_data"
    },
    {
     "data": {
      "image/png": "[encoded data removed]",
      "text/plain": [
       "<Figure size 432x288 with 2 Axes>"
      ]
     },
     "metadata": {
      "needs_background": "light"
     },
     "output_type": "display_data"
    }
   ],
   "source": [
    "ds_preds = np.asarray(ds_preds)\n",
    "vision_binned_preds = vision_binned_preds.squeeze()\n",
    "ind_true = [l == 1 for l in bin_target]\n",
    "tmp_1 = vision_binned_preds[ind_true]\n",
    "tmp_2 = ds_preds[ind_true]\n",
    "plot_confusion_matrix_preds(tmp_1, tmp_2, classes=class_names, name1='vision', name2='ds', title='Unnormalized ds and vision - Adopted')\n",
    "\n",
    "ind_false = [l == 0 for l in bin_target]\n",
    "tmp_1 = vision_binned_preds[ind_false]\n",
    "tmp_2 = ds_preds[ind_false]\n",
    "plot_confusion_matrix_preds(tmp_1, tmp_2, classes=class_names, name1='vision', name2='ds', title='Unnormalized ds and vision - NOT adopted')"
   ]
  },
  {
   "cell_type": "markdown",
   "metadata": {},
   "source": [
    "## Check CV thresholds"
   ]
  },
  {
   "cell_type": "code",
   "execution_count": 10,
   "metadata": {},
   "outputs": [
    {
     "name": "stdout",
     "output_type": "stream",
     "text": [
      "Average precision-recall score: 0.75\n"
     ]
    }
   ],
   "source": [
    "from sklearn.metrics import average_precision_score\n",
    "average_precision = average_precision_score(bin_target, vision_preds)\n",
    "\n",
    "print('Average precision-recall score: {0:0.2f}'.format(\n",
    "      average_precision))"
   ]
  },
  {
   "cell_type": "code",
   "execution_count": 11,
   "metadata": {},
   "outputs": [
    {
     "name": "stdout",
     "output_type": "stream",
     "text": [
      "Precision: [0.751 0.751 0.75  ... 0.857 0.846 1.   ]\n",
      "Recall: [1.    0.999 0.999 ... 0.007 0.006 0.   ]\n",
      "Thresholds: [0.314 0.314 0.335 ... 0.993 0.997 1.   ]\n"
     ]
    },
    {
     "data": {
      "text/plain": [
       "Text(0.5, 1.0, '2-class Precision-Recall curve: AP=0.75')"
      ]
     },
     "execution_count": 11,
     "metadata": {},
     "output_type": "execute_result"
    },
    {
     "data": {
      "image/png": "[encoded data removed]",
      "text/plain": [
       "<Figure size 432x288 with 1 Axes>"
      ]
     },
     "metadata": {
      "needs_background": "light"
     },
     "output_type": "display_data"
    }
   ],
   "source": [
    "from sklearn.metrics import precision_recall_curve\n",
    "from inspect import signature\n",
    "\n",
    "\n",
    "vision_preds[vision_preds > 1] = 1\n",
    "precision, recall, ths = precision_recall_curve(bin_target, vision_preds[:,0])\n",
    "\n",
    "print(\"Precision: {}\".format(precision))\n",
    "print(\"Recall: {}\".format(recall))\n",
    "print(\"Thresholds: {}\".format(ths))\n",
    "# In matplotlib < 1.5, plt.fill_between does not have a 'step' argument\n",
    "step_kwargs = ({'step': 'post'}\n",
    "               if 'step' in signature(plt.fill_between).parameters\n",
    "               else {})\n",
    "plt.step(recall, precision, color='b', alpha=0.2,\n",
    "         where='post')\n",
    "plt.fill_between(recall, precision, alpha=0.2, color='b', **step_kwargs)\n",
    "\n",
    "plt.xlabel('Recall')\n",
    "plt.ylabel('Precision')\n",
    "plt.ylim([0.0, 1.05])\n",
    "plt.xlim([0.0, 1.0])\n",
    "plt.title('2-class Precision-Recall curve: AP={0:0.2f}'.format(\n",
    "          average_precision))"
   ]
  },
  {
   "cell_type": "code",
   "execution_count": 12,
   "metadata": {},
   "outputs": [
    {
     "name": "stdout",
     "output_type": "stream",
     "text": [
      "Average precision-recall score: 0.88\n",
      "Precision: [0.75  0.755 0.761 0.766 0.768 0.775 0.78  0.784 0.793 0.796 0.803 0.803\n",
      " 0.806 0.808 0.812 0.819 0.822 0.827 0.833 0.836 0.84  0.842 0.846 0.846\n",
      " 0.847 0.848 0.852 0.852 0.857 0.859 0.858 0.868 0.865 0.871 0.876 0.876\n",
      " 0.878 0.878 0.88  0.888 0.887 0.885 0.89  0.89  0.89  0.892 0.895 0.901\n",
      " 0.902 0.901 0.897 0.897 0.901 0.907 0.903 0.912 0.917 0.923 0.922 0.917\n",
      " 0.913 0.932 0.941 0.946 0.956 0.965 0.965 0.968 1.   ]\n",
      "Recall: [1.    0.993 0.979 0.97  0.959 0.947 0.94  0.933 0.926 0.921 0.916 0.905\n",
      " 0.885 0.873 0.865 0.859 0.851 0.835 0.82  0.809 0.803 0.784 0.771 0.759\n",
      " 0.742 0.729 0.706 0.691 0.674 0.661 0.646 0.63  0.61  0.595 0.585 0.561\n",
      " 0.547 0.531 0.522 0.512 0.496 0.481 0.459 0.441 0.429 0.416 0.405 0.387\n",
      " 0.369 0.348 0.323 0.308 0.299 0.287 0.269 0.256 0.247 0.226 0.201 0.183\n",
      " 0.167 0.153 0.131 0.114 0.089 0.08  0.065 0.053 0.   ]\n",
      "Thresholds: [0.279 0.35  0.382 0.389 0.415 0.445 0.449 0.45  0.456 0.495 0.508 0.557\n",
      " 0.559 0.561 0.563 0.57  0.597 0.612 0.627 0.632 0.65  0.652 0.663 0.672\n",
      " 0.683 0.73  0.739 0.741 0.746 0.75  0.765 0.773 0.78  0.79  0.799 0.81\n",
      " 0.816 0.83  0.831 0.832 0.835 0.844 0.845 0.849 0.85  0.852 0.86  0.866\n",
      " 0.88  0.882 0.884 0.891 0.901 0.906 0.907 0.917 0.929 0.93  0.931 0.936\n",
      " 0.939 0.942 0.948 0.949 0.97  0.981 0.991 1.   ]\n"
     ]
    },
    {
     "data": {
      "text/plain": [
       "Text(0.5, 1.0, '2-class Precision-Recall curve: AP=0.88')"
      ]
     },
     "execution_count": 12,
     "metadata": {},
     "output_type": "execute_result"
    },
    {
     "data": {
      "image/png": "[encoded data removed]",
      "text/plain": [
       "<Figure size 432x288 with 1 Axes>"
      ]
     },
     "metadata": {
      "needs_background": "light"
     },
     "output_type": "display_data"
    }
   ],
   "source": [
    "average_precision = average_precision_score(bin_target, ds_cont_preds)\n",
    "print('Average precision-recall score: {0:0.2f}'.format(\n",
    "      average_precision))\n",
    "\n",
    "precision, recall, ths = precision_recall_curve(bin_target, ds_cont_preds)\n",
    "\n",
    "print(\"Precision: {}\".format(precision))\n",
    "print(\"Recall: {}\".format(recall))\n",
    "print(\"Thresholds: {}\".format(ths))\n",
    "# In matplotlib < 1.5, plt.fill_between does not have a 'step' argument\n",
    "step_kwargs = ({'step': 'post'}\n",
    "               if 'step' in signature(plt.fill_between).parameters\n",
    "               else {})\n",
    "plt.step(recall, precision, color='b', alpha=0.2,\n",
    "         where='post')\n",
    "plt.fill_between(recall, precision, alpha=0.2, color='b', **step_kwargs)\n",
    "\n",
    "plt.xlabel('Recall')\n",
    "plt.ylabel('Precision')\n",
    "plt.ylim([0.0, 1.05])\n",
    "plt.xlim([0.0, 1.0])\n",
    "plt.title('2-class Precision-Recall curve: AP={0:0.2f}'.format(\n",
    "          average_precision))"
   ]
  },
  {
   "cell_type": "code",
   "execution_count": null,
   "metadata": {},
   "outputs": [],
   "source": []
  }
 ],
 "metadata": {
  "kernelspec": {
   "display_name": "Python 3",
   "language": "python",
   "name": "python3"
  },
  "language_info": {
   "codemirror_mode": {
    "name": "ipython",
    "version": 3
   },
   "file_extension": ".py",
   "mimetype": "text/x-python",
   "name": "python",
   "nbconvert_exporter": "python",
   "pygments_lexer": "ipython3",
   "version": "3.7.1"
  }
 },
 "nbformat": 4,
 "nbformat_minor": 2
}
